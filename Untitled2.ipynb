{
 "cells": [
  {
   "cell_type": "markdown",
   "metadata": {},
   "source": [
    "# Sigma-algebras"
   ]
  },
  {
   "cell_type": "markdown",
   "metadata": {},
   "source": [
    "For every $\\sigma$-algebra $\\mathcal{F}$ on the set $X$:\n",
    "- $\\emptyset \\in \\mathcal{F}$. By the definition of $\\sigma$-algerba $X\\in \\mathcal{F}$ and $X-X\\in \\mathcal{F}$ $X-X=\\emptyset$ and we have $\\emptyset \\in \\mathcal{F}$\n",
    "- For every $(A_n)_{n = 1}^{\\infty}$ such that $A_n \\in \\mathcal{F}$ for any $1 \\le n \\le \\infty$: $\\bigcap_{n=1}^{\\infty}A_n \\in \\mathcal{F}$. By the definition of $\\sigma$-algerba for every $(A_n)_{n = 1}^{\\infty}$ such that $A_n \\in \\mathcal{F}$ so $X-A_n \\in \\mathcal{F}$ for any  $\\bigcup_{n=1}^{\\infty}{(X-A_n)} \\in \\mathcal{F}$. And by De-Morgan's low we have $\\bigcap_{n=1}^{\\infty}A_n \\in \\mathcal{F}$."
   ]
  },
  {
   "cell_type": "markdown",
   "metadata": {},
   "source": [
    "# Probability"
   ]
  },
  {
   "cell_type": "markdown",
   "metadata": {},
   "source": [
    "- $P(A \\cup B) = P(A) + P(B) - P(A \\cap B)$\n"
   ]
  },
  {
   "cell_type": "markdown",
   "metadata": {},
   "source": [
    "$A=(A\\backslash B)\\cup(A\\cap B)$ <br>\n",
    "$B=(B\\backslash A)\\cup(A\\cap B)$<br>\n",
    "$A\\cup B=(A\\backslash B)\\cup(A\\cap B)\\cup(B\\backslash A)$ <br>\n",
    "$P(A)=P(A\\backslash B)+P(A\\cap B)$ <br>\n",
    "$P(B)=P(B\\backslash A)+P(A\\cap B)$<br>\n",
    "$P(A\\cup B)=P(A\\backslash B)+P(A\\cap B)+P(B\\backslash A)$ so<br>\n",
    "$P(A\\cup B)=P(A)-P(A\\cap B)+P(B)-P(A\\cap B)+P(A\\cap B)=P(A)+P(B)-P(A\\cap B)$"
   ]
  },
  {
   "cell_type": "code",
   "execution_count": null,
   "metadata": {},
   "outputs": [],
   "source": []
  },
  {
   "cell_type": "code",
   "execution_count": null,
   "metadata": {},
   "outputs": [],
   "source": []
  }
 ],
 "metadata": {
  "kernelspec": {
   "display_name": "school-of-ai",
   "language": "python",
   "name": "school-of-ai"
  }
 },
 "nbformat": 4,
 "nbformat_minor": 2
}
