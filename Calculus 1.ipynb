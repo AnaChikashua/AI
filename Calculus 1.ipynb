{
 "cells": [
  {
   "cell_type": "markdown",
   "metadata": {},
   "source": [
    "- For eny $\\mathcal{U} = \\{U | U$ is open in $(X, d)\\}$ holds $\\bigcup_{U \\in \\mathcal{U}} U$ is open in $(X, d)$"
   ]
  },
  {
   "cell_type": "markdown",
   "metadata": {},
   "source": [
    "proof: Let $x \\in$$\\bigcup_{U \\in \\mathcal{U}} U$ , which means, there exist open set U, where $x \\in U$ so there exists $r \\in \\mathbb{R}$ such that $B(x, r) \\subset U$. And $B(x, r) \\subset $$\\bigcup_{U \\in \\mathcal{U}} U$. So we've got that each element of $\\bigcup_{U \\in \\mathcal{U}} U$ there exist $B(x,r)$ such that $B(x,r) \\subset \\bigcup_{U \\in \\mathcal{U}} U$"
   ]
  },
  {
   "cell_type": "markdown",
   "metadata": {},
   "source": [
    "- For any two $U, V \\subset X$ open in $(X, d)$ holds: $U \\cap V$ is open in $(X, d)$\n"
   ]
  },
  {
   "cell_type": "markdown",
   "metadata": {},
   "source": [
    "proof: Let $x \\in U \\cap V$. Becouse of U and V are open sets which means there exist $r_1$,$r_2$ $\\in \\mathbb{R}$ such that $B(x, r_1) \\subset U$ and $B(x, r_2) \\subset V$. Let $r=min\\{r_1,r_2\\}$, we have that $B(x, r) \\subset U$ and $B(x, r) \\subset V$. And we have got $B(x, r) \\subset U\\cap V$. Similarly approved any finity set $(U)_{i=1}^{n}$.If $(U)_{i=1}^{n}$ are open sets in $(X, d)$, $\\bigcap_{i=1}^{n}U$ is open in $(X, d)$"
   ]
  },
  {
   "cell_type": "markdown",
   "metadata": {},
   "source": [
    "- For eny $\\mathcal{F} = \\{F | F$ is closed in $(X, d)\\}$ holds $\\bigcap_{F \\in \\mathcal{F}} F$ is closed in $(X, d)$"
   ]
  },
  {
   "cell_type": "markdown",
   "metadata": {},
   "source": [
    "proof: We know that for eny $\\mathcal{U} = \\{U | U$ is open in $(X, d)\\}$ holds $\\bigcup_{U \\in \\mathcal{U}} U$ is open in $(X, d)$.Now if we use De Morgan's laws and consider that $U=X-F$ we have got $\\bigcap_{F \\in \\mathcal{F}} F$ is closed in $(X, d)$"
   ]
  },
  {
   "cell_type": "markdown",
   "metadata": {},
   "source": [
    "- For eny two $F_1, F_2 \\subset X$ closed in $(X, d)$ holds: $F_1 \\cup F_2$ is closed in $(X, d)$\n"
   ]
  },
  {
   "cell_type": "markdown",
   "metadata": {},
   "source": [
    "proof: Also there we use De morgan's laws and if we use the properties about open sets this properties will be proven."
   ]
  },
  {
   "cell_type": "markdown",
   "metadata": {},
   "source": [
    "#### Prove that, if $F \\subset X$ is closed then $X - F$ is open in $(X, d)$ "
   ]
  },
  {
   "cell_type": "markdown",
   "metadata": {},
   "source": [
    "proof: Let $F\\subset X$ is closed set, that means there exist open set $U$ and $F=X-U$. So, we have got $X-(X-U)=U$ and $U$ is open set in $X$."
   ]
  },
  {
   "cell_type": "code",
   "execution_count": null,
   "metadata": {},
   "outputs": [],
   "source": []
  }
 ],
 "metadata": {
  "kernelspec": {
   "display_name": "school-of-ai",
   "language": "python",
   "name": "school-of-ai"
  }
 },
 "nbformat": 4,
 "nbformat_minor": 2
}
