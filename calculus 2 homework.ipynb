{
 "cells": [
  {
   "cell_type": "markdown",
   "metadata": {},
   "source": [
    "#### Example:\n",
    "$$f(x,y) = \\begin{cases}x & \\text{if }y \\ne x^2 \\\\ 0 & \\text{if }y = x^2\\end{cases}$$"
   ]
  },
  {
   "cell_type": "markdown",
   "metadata": {},
   "source": [
    "$$f'_x(x,y) = \\begin{cases}1 & \\text{if }y \\ne x^2 \\\\ 0 & \\text{if }y = x^2\\end{cases}$$"
   ]
  },
  {
   "cell_type": "markdown",
   "metadata": {},
   "source": [
    "$$f'_y(x,y) = \\begin{cases}0 & \\text{if }y \\ne x^2 \\\\ 0 & \\text{if }y = x^2\\end{cases}$$"
   ]
  },
  {
   "cell_type": "markdown",
   "metadata": {},
   "source": [
    "#### Example:\n",
    "$$f(x,y) = \\begin{cases}y^3/(x^2+y^2) & \\text{if }(x,y) \\ne (0,0) \\\\ 0 & \\text{if }(x,y) = (0,0)\\end{cases}$$"
   ]
  },
  {
   "cell_type": "markdown",
   "metadata": {},
   "source": [
    "#### Example:\n",
    "$$f'_x(x,y) = \\begin{cases}(-(x^2+y^2))y^32x/(x^2+y^2)^2 & \\text{if }(x,y) \\ne (0,0) \\\\ 0 & \\text{if }(x,y) = (0,0)\\end{cases}$$"
   ]
  },
  {
   "cell_type": "code",
   "execution_count": null,
   "metadata": {},
   "outputs": [],
   "source": []
  }
 ],
 "metadata": {
  "kernelspec": {
   "display_name": "school-of-ai",
   "language": "python",
   "name": "school-of-ai"
  }
 },
 "nbformat": 4,
 "nbformat_minor": 2
}
